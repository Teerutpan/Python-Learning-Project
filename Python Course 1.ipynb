{
 "cells": [
  {
   "cell_type": "markdown",
   "id": "2ca735fe",
   "metadata": {},
   "source": [
    "# 1 Hello world"
   ]
  },
  {
   "cell_type": "code",
   "execution_count": 8,
   "id": "44c8e6e6",
   "metadata": {
    "scrolled": true
   },
   "outputs": [
    {
     "name": "stdout",
     "output_type": "stream",
     "text": [
      "Hello world!\n"
     ]
    }
   ],
   "source": [
    "# printing my first message\n",
    "print(\"Hello world!\")"
   ]
  },
  {
   "cell_type": "code",
   "execution_count": 9,
   "id": "e6fd66a0",
   "metadata": {},
   "outputs": [
    {
     "data": {
      "text/plain": [
       "'Hello world!'"
      ]
     },
     "execution_count": 9,
     "metadata": {},
     "output_type": "execute_result"
    }
   ],
   "source": [
    "\"Hello world!\""
   ]
  },
  {
   "cell_type": "code",
   "execution_count": 10,
   "id": "8852e87d",
   "metadata": {
    "scrolled": true
   },
   "outputs": [
    {
     "name": "stdout",
     "output_type": "stream",
     "text": [
      "Teerut Panalikul\n"
     ]
    }
   ],
   "source": [
    "# printing my name\n",
    "print(\"Teerut Panalikul\")"
   ]
  },
  {
   "cell_type": "markdown",
   "id": "bbcdb5b8",
   "metadata": {},
   "source": [
    "# 2 Data Types"
   ]
  },
  {
   "cell_type": "code",
   "execution_count": 11,
   "id": "74ec5a8a",
   "metadata": {
    "scrolled": true
   },
   "outputs": [
    {
     "data": {
      "text/plain": [
       "int"
      ]
     },
     "execution_count": 11,
     "metadata": {},
     "output_type": "execute_result"
    }
   ],
   "source": [
    "type(1)"
   ]
  },
  {
   "cell_type": "code",
   "execution_count": 12,
   "id": "a0348bfa",
   "metadata": {},
   "outputs": [
    {
     "data": {
      "text/plain": [
       "float"
      ]
     },
     "execution_count": 12,
     "metadata": {},
     "output_type": "execute_result"
    }
   ],
   "source": [
    "type(2.4)"
   ]
  },
  {
   "cell_type": "code",
   "execution_count": 13,
   "id": "e86497a4",
   "metadata": {},
   "outputs": [
    {
     "data": {
      "text/plain": [
       "4"
      ]
     },
     "execution_count": 13,
     "metadata": {},
     "output_type": "execute_result"
    }
   ],
   "source": [
    "1 + 3"
   ]
  },
  {
   "cell_type": "code",
   "execution_count": 15,
   "id": "878b44de",
   "metadata": {},
   "outputs": [
    {
     "data": {
      "text/plain": [
       "3"
      ]
     },
     "execution_count": 15,
     "metadata": {},
     "output_type": "execute_result"
    }
   ],
   "source": [
    "4 - 1 "
   ]
  },
  {
   "cell_type": "code",
   "execution_count": 16,
   "id": "867b21af",
   "metadata": {},
   "outputs": [
    {
     "data": {
      "text/plain": [
       "bool"
      ]
     },
     "execution_count": 16,
     "metadata": {},
     "output_type": "execute_result"
    }
   ],
   "source": [
    "type(True)"
   ]
  },
  {
   "cell_type": "code",
   "execution_count": 17,
   "id": "33ed8487",
   "metadata": {},
   "outputs": [
    {
     "data": {
      "text/plain": [
       "bool"
      ]
     },
     "execution_count": 17,
     "metadata": {},
     "output_type": "execute_result"
    }
   ],
   "source": [
    "type(False)"
   ]
  },
  {
   "cell_type": "code",
   "execution_count": 18,
   "id": "3a1afa45",
   "metadata": {},
   "outputs": [
    {
     "data": {
      "text/plain": [
       "str"
      ]
     },
     "execution_count": 18,
     "metadata": {},
     "output_type": "execute_result"
    }
   ],
   "source": [
    "type(\"Hello World\")"
   ]
  },
  {
   "cell_type": "code",
   "execution_count": 20,
   "id": "ddc355cd",
   "metadata": {},
   "outputs": [
    {
     "data": {
      "text/plain": [
       "'Hello World'"
      ]
     },
     "execution_count": 20,
     "metadata": {},
     "output_type": "execute_result"
    }
   ],
   "source": [
    "\"Hello World\".upper()\n",
    "\"Hello World\".lower()\n",
    "\"Hello World\".title()"
   ]
  },
  {
   "cell_type": "code",
   "execution_count": 21,
   "id": "a9e1cdc7",
   "metadata": {
    "scrolled": true
   },
   "outputs": [
    {
     "name": "stdout",
     "output_type": "stream",
     "text": [
      "HELLO WORLD\n",
      "hello world\n",
      "Hello World\n"
     ]
    }
   ],
   "source": [
    "print(\"Hello World\".upper())\n",
    "print(\"Hello World\".lower())\n",
    "print(\"Hello World\".title())"
   ]
  },
  {
   "cell_type": "code",
   "execution_count": 1,
   "id": "2582369a",
   "metadata": {},
   "outputs": [
    {
     "data": {
      "text/plain": [
       "3"
      ]
     },
     "execution_count": 1,
     "metadata": {},
     "output_type": "execute_result"
    }
   ],
   "source": [
    "\"Hello World\".count('l')"
   ]
  },
  {
   "cell_type": "code",
   "execution_count": 2,
   "id": "2d1e9fe4",
   "metadata": {},
   "outputs": [
    {
     "data": {
      "text/plain": [
       "'Hellu Wurld'"
      ]
     },
     "execution_count": 2,
     "metadata": {},
     "output_type": "execute_result"
    }
   ],
   "source": [
    "\"Hello World\".replace('o', 'u')"
   ]
  },
  {
   "cell_type": "markdown",
   "id": "640c341c",
   "metadata": {},
   "source": [
    "# 3 Variables"
   ]
  },
  {
   "cell_type": "code",
   "execution_count": 3,
   "id": "2ec44f97",
   "metadata": {},
   "outputs": [],
   "source": [
    "message_1 = \"I'm learning Python\""
   ]
  },
  {
   "cell_type": "code",
   "execution_count": 4,
   "id": "c62583f6",
   "metadata": {},
   "outputs": [
    {
     "data": {
      "text/plain": [
       "\"I'm learning Python\""
      ]
     },
     "execution_count": 4,
     "metadata": {},
     "output_type": "execute_result"
    }
   ],
   "source": [
    "message_1"
   ]
  },
  {
   "cell_type": "code",
   "execution_count": 5,
   "id": "1f0639dc",
   "metadata": {},
   "outputs": [],
   "source": [
    "message_2 = \"and it's fun!\""
   ]
  },
  {
   "cell_type": "code",
   "execution_count": 6,
   "id": "00603243",
   "metadata": {},
   "outputs": [
    {
     "data": {
      "text/plain": [
       "\"and it's fun!\""
      ]
     },
     "execution_count": 6,
     "metadata": {},
     "output_type": "execute_result"
    }
   ],
   "source": [
    "message_2"
   ]
  },
  {
   "cell_type": "code",
   "execution_count": 7,
   "id": "798dd80c",
   "metadata": {},
   "outputs": [
    {
     "data": {
      "text/plain": [
       "\"I'm learning Pythonand it's fun!\""
      ]
     },
     "execution_count": 7,
     "metadata": {},
     "output_type": "execute_result"
    }
   ],
   "source": [
    "message_1 + message_2"
   ]
  },
  {
   "cell_type": "code",
   "execution_count": 9,
   "id": "6b7f4fd3",
   "metadata": {},
   "outputs": [
    {
     "data": {
      "text/plain": [
       "\"I'm learning Python and it's fun!\""
      ]
     },
     "execution_count": 9,
     "metadata": {},
     "output_type": "execute_result"
    }
   ],
   "source": [
    "massage = message_1 + ' ' + message_2\n",
    "massage"
   ]
  },
  {
   "cell_type": "code",
   "execution_count": 11,
   "id": "f5b617a7",
   "metadata": {},
   "outputs": [
    {
     "data": {
      "text/plain": [
       "\"I'm learning Python test and it's fun!\""
      ]
     },
     "execution_count": 11,
     "metadata": {},
     "output_type": "execute_result"
    }
   ],
   "source": [
    "f'{message_1} test {message_2}'"
   ]
  },
  {
   "cell_type": "markdown",
   "id": "353d8944",
   "metadata": {},
   "source": [
    "# 4 List"
   ]
  },
  {
   "cell_type": "code",
   "execution_count": 16,
   "id": "02b67ab7",
   "metadata": {},
   "outputs": [],
   "source": [
    "countries = ['United States', 'India', 'China', 'Brazil']"
   ]
  },
  {
   "cell_type": "code",
   "execution_count": 18,
   "id": "3e3a0e60",
   "metadata": {},
   "outputs": [
    {
     "data": {
      "text/plain": [
       "['United States', 'India', 'China', 'Brazil']"
      ]
     },
     "execution_count": 18,
     "metadata": {},
     "output_type": "execute_result"
    }
   ],
   "source": [
    "countries"
   ]
  },
  {
   "cell_type": "code",
   "execution_count": 17,
   "id": "28a7a5bc",
   "metadata": {},
   "outputs": [
    {
     "data": {
      "text/plain": [
       "'United States'"
      ]
     },
     "execution_count": 17,
     "metadata": {},
     "output_type": "execute_result"
    }
   ],
   "source": [
    "countries[0]"
   ]
  },
  {
   "cell_type": "code",
   "execution_count": 19,
   "id": "090abc9e",
   "metadata": {},
   "outputs": [
    {
     "name": "stdout",
     "output_type": "stream",
     "text": [
      "United States\n",
      "India\n",
      "China\n",
      "Brazil\n"
     ]
    }
   ],
   "source": [
    "print(countries[0])\n",
    "print(countries[1])\n",
    "print(countries[2])\n",
    "print(countries[3])"
   ]
  },
  {
   "cell_type": "code",
   "execution_count": 20,
   "id": "c34af796",
   "metadata": {},
   "outputs": [
    {
     "data": {
      "text/plain": [
       "'Brazil'"
      ]
     },
     "execution_count": 20,
     "metadata": {},
     "output_type": "execute_result"
    }
   ],
   "source": [
    "countries[-1]"
   ]
  },
  {
   "cell_type": "code",
   "execution_count": 21,
   "id": "70be6a85",
   "metadata": {},
   "outputs": [
    {
     "data": {
      "text/plain": [
       "'United States'"
      ]
     },
     "execution_count": 21,
     "metadata": {},
     "output_type": "execute_result"
    }
   ],
   "source": [
    "countries[-4]"
   ]
  },
  {
   "cell_type": "code",
   "execution_count": null,
   "id": "c810785f",
   "metadata": {},
   "outputs": [],
   "source": [
    "# slicing\n",
    "list_name[start:stop]"
   ]
  },
  {
   "cell_type": "code",
   "execution_count": 23,
   "id": "5e0c6168",
   "metadata": {},
   "outputs": [
    {
     "data": {
      "text/plain": [
       "['United States', 'India', 'China']"
      ]
     },
     "execution_count": 23,
     "metadata": {},
     "output_type": "execute_result"
    }
   ],
   "source": [
    "countries[0:3]"
   ]
  },
  {
   "cell_type": "code",
   "execution_count": 24,
   "id": "02b25582",
   "metadata": {},
   "outputs": [
    {
     "data": {
      "text/plain": [
       "['United States']"
      ]
     },
     "execution_count": 24,
     "metadata": {},
     "output_type": "execute_result"
    }
   ],
   "source": [
    "countries[0:1]"
   ]
  },
  {
   "cell_type": "code",
   "execution_count": 25,
   "id": "ecb64193",
   "metadata": {},
   "outputs": [
    {
     "data": {
      "text/plain": [
       "['India', 'China', 'Brazil']"
      ]
     },
     "execution_count": 25,
     "metadata": {},
     "output_type": "execute_result"
    }
   ],
   "source": [
    "countries[1:]"
   ]
  },
  {
   "cell_type": "code",
   "execution_count": 26,
   "id": "6bb93100",
   "metadata": {},
   "outputs": [
    {
     "data": {
      "text/plain": [
       "['United States', 'India']"
      ]
     },
     "execution_count": 26,
     "metadata": {},
     "output_type": "execute_result"
    }
   ],
   "source": [
    "countries[:2]"
   ]
  },
  {
   "cell_type": "markdown",
   "id": "70e07c0f",
   "metadata": {},
   "source": [
    "## 4.0.1 Adding element to a list"
   ]
  },
  {
   "cell_type": "code",
   "execution_count": 28,
   "id": "37d837b4",
   "metadata": {},
   "outputs": [
    {
     "data": {
      "text/plain": [
       "['United States', 'India', 'China', 'Brazil']"
      ]
     },
     "execution_count": 28,
     "metadata": {},
     "output_type": "execute_result"
    }
   ],
   "source": [
    "countries"
   ]
  },
  {
   "cell_type": "code",
   "execution_count": 30,
   "id": "2add65fa",
   "metadata": {},
   "outputs": [],
   "source": [
    "countries.append('canada')"
   ]
  },
  {
   "cell_type": "code",
   "execution_count": 31,
   "id": "993aca6e",
   "metadata": {},
   "outputs": [
    {
     "data": {
      "text/plain": [
       "['United States', 'India', 'China', 'Brazil', 'canada', 'canada']"
      ]
     },
     "execution_count": 31,
     "metadata": {},
     "output_type": "execute_result"
    }
   ],
   "source": [
    "countries"
   ]
  },
  {
   "cell_type": "code",
   "execution_count": 32,
   "id": "bab9a289",
   "metadata": {},
   "outputs": [],
   "source": [
    "countries.insert(0, 'Spain')"
   ]
  },
  {
   "cell_type": "code",
   "execution_count": 33,
   "id": "df7c43f5",
   "metadata": {},
   "outputs": [
    {
     "data": {
      "text/plain": [
       "['Spain', 'United States', 'India', 'China', 'Brazil', 'canada', 'canada']"
      ]
     },
     "execution_count": 33,
     "metadata": {},
     "output_type": "execute_result"
    }
   ],
   "source": [
    "countries"
   ]
  },
  {
   "cell_type": "code",
   "execution_count": 35,
   "id": "31530558",
   "metadata": {},
   "outputs": [],
   "source": [
    "countries_2 = ['UK', 'Germany', 'Austria']"
   ]
  },
  {
   "cell_type": "code",
   "execution_count": 36,
   "id": "ef596322",
   "metadata": {},
   "outputs": [
    {
     "data": {
      "text/plain": [
       "['Spain',\n",
       " 'United States',\n",
       " 'India',\n",
       " 'China',\n",
       " 'Brazil',\n",
       " 'canada',\n",
       " 'canada',\n",
       " 'UK',\n",
       " 'Germany',\n",
       " 'Austria']"
      ]
     },
     "execution_count": 36,
     "metadata": {},
     "output_type": "execute_result"
    }
   ],
   "source": [
    "countries + countries_2"
   ]
  },
  {
   "cell_type": "code",
   "execution_count": 37,
   "id": "60c68ec0",
   "metadata": {},
   "outputs": [],
   "source": [
    "nested_list = [countries, countries_2]"
   ]
  },
  {
   "cell_type": "code",
   "execution_count": 38,
   "id": "79cab895",
   "metadata": {},
   "outputs": [
    {
     "data": {
      "text/plain": [
       "[['Spain', 'United States', 'India', 'China', 'Brazil', 'canada', 'canada'],\n",
       " ['UK', 'Germany', 'Austria']]"
      ]
     },
     "execution_count": 38,
     "metadata": {},
     "output_type": "execute_result"
    }
   ],
   "source": [
    "nested_list"
   ]
  },
  {
   "cell_type": "markdown",
   "id": "a8412bdf",
   "metadata": {},
   "source": [
    "## 4.0.2 Removing an elements"
   ]
  },
  {
   "cell_type": "code",
   "execution_count": 39,
   "id": "2aeee3e7",
   "metadata": {},
   "outputs": [],
   "source": [
    "countries.remove('United States')"
   ]
  },
  {
   "cell_type": "code",
   "execution_count": 40,
   "id": "a7b4b720",
   "metadata": {},
   "outputs": [
    {
     "data": {
      "text/plain": [
       "['Spain', 'India', 'China', 'Brazil', 'canada', 'canada']"
      ]
     },
     "execution_count": 40,
     "metadata": {},
     "output_type": "execute_result"
    }
   ],
   "source": [
    "countries"
   ]
  },
  {
   "cell_type": "code",
   "execution_count": 41,
   "id": "4aac11db",
   "metadata": {},
   "outputs": [
    {
     "data": {
      "text/plain": [
       "'canada'"
      ]
     },
     "execution_count": 41,
     "metadata": {},
     "output_type": "execute_result"
    }
   ],
   "source": [
    "countries.pop(-1)"
   ]
  },
  {
   "cell_type": "code",
   "execution_count": 42,
   "id": "beffe439",
   "metadata": {},
   "outputs": [
    {
     "data": {
      "text/plain": [
       "['Spain', 'India', 'China', 'Brazil', 'canada']"
      ]
     },
     "execution_count": 42,
     "metadata": {},
     "output_type": "execute_result"
    }
   ],
   "source": [
    "countries"
   ]
  },
  {
   "cell_type": "code",
   "execution_count": 43,
   "id": "403c3989",
   "metadata": {},
   "outputs": [],
   "source": [
    "del countries[0]"
   ]
  },
  {
   "cell_type": "code",
   "execution_count": 44,
   "id": "738790df",
   "metadata": {},
   "outputs": [
    {
     "data": {
      "text/plain": [
       "['India', 'China', 'Brazil', 'canada']"
      ]
     },
     "execution_count": 44,
     "metadata": {},
     "output_type": "execute_result"
    }
   ],
   "source": [
    "countries"
   ]
  },
  {
   "cell_type": "code",
   "execution_count": 45,
   "id": "43e50963",
   "metadata": {},
   "outputs": [],
   "source": [
    "del countries[3]"
   ]
  },
  {
   "cell_type": "code",
   "execution_count": 46,
   "id": "9db9e0ee",
   "metadata": {},
   "outputs": [
    {
     "data": {
      "text/plain": [
       "['India', 'China', 'Brazil']"
      ]
     },
     "execution_count": 46,
     "metadata": {},
     "output_type": "execute_result"
    }
   ],
   "source": [
    "countries"
   ]
  },
  {
   "cell_type": "markdown",
   "id": "ded6950c",
   "metadata": {},
   "source": [
    "## 4.0.3 Sorting a list"
   ]
  },
  {
   "cell_type": "code",
   "execution_count": 47,
   "id": "fd73e6eb",
   "metadata": {},
   "outputs": [],
   "source": [
    "numbers = [4, 3, 10, 7, 1, 2]"
   ]
  },
  {
   "cell_type": "code",
   "execution_count": 49,
   "id": "c6bcad6a",
   "metadata": {},
   "outputs": [],
   "source": [
    "numbers.sort()"
   ]
  },
  {
   "cell_type": "code",
   "execution_count": 50,
   "id": "bbe79517",
   "metadata": {},
   "outputs": [
    {
     "data": {
      "text/plain": [
       "[1, 2, 3, 4, 7, 10]"
      ]
     },
     "execution_count": 50,
     "metadata": {},
     "output_type": "execute_result"
    }
   ],
   "source": [
    "numbers"
   ]
  },
  {
   "cell_type": "code",
   "execution_count": 51,
   "id": "d8ef7933",
   "metadata": {},
   "outputs": [
    {
     "data": {
      "text/plain": [
       "[10, 7, 4, 3, 2, 1]"
      ]
     },
     "execution_count": 51,
     "metadata": {},
     "output_type": "execute_result"
    }
   ],
   "source": [
    "numbers = [4, 3, 10, 7, 1, 2]\n",
    "numbers.sort(reverse=True)\n",
    "numbers\n"
   ]
  },
  {
   "cell_type": "markdown",
   "id": "c7d3dbf1",
   "metadata": {},
   "source": [
    "## 4.0.4 Update an Element"
   ]
  },
  {
   "cell_type": "code",
   "execution_count": 53,
   "id": "fc22fd55",
   "metadata": {},
   "outputs": [
    {
     "data": {
      "text/plain": [
       "[1000, 7, 4, 3, 2, 1]"
      ]
     },
     "execution_count": 53,
     "metadata": {},
     "output_type": "execute_result"
    }
   ],
   "source": [
    "numbers[0] = 1000\n",
    "numbers"
   ]
  },
  {
   "cell_type": "markdown",
   "id": "565e2a64",
   "metadata": {},
   "source": [
    "## 4.0.5 Copying a list"
   ]
  },
  {
   "cell_type": "code",
   "execution_count": 54,
   "id": "d5102e1d",
   "metadata": {},
   "outputs": [
    {
     "data": {
      "text/plain": [
       "['United States', 'India', 'China', 'Brazil']"
      ]
     },
     "execution_count": 54,
     "metadata": {},
     "output_type": "execute_result"
    }
   ],
   "source": [
    "countries = ['United States', 'India', 'China', 'Brazil']\n",
    "countries[:]"
   ]
  },
  {
   "cell_type": "code",
   "execution_count": null,
   "id": "bb44d232",
   "metadata": {},
   "outputs": [],
   "source": [
    "countries = ['United States', 'India', 'China', 'Brazil']\n",
    "countries[:]"
   ]
  },
  {
   "cell_type": "code",
   "execution_count": 55,
   "id": "4e91919d",
   "metadata": {},
   "outputs": [],
   "source": [
    "countries = ['United States', 'India', 'China', 'Brazil']\n",
    "new_list = countries[:]"
   ]
  },
  {
   "cell_type": "code",
   "execution_count": 56,
   "id": "7830af45",
   "metadata": {},
   "outputs": [
    {
     "data": {
      "text/plain": [
       "['United States', 'India', 'China', 'Brazil']"
      ]
     },
     "execution_count": 56,
     "metadata": {},
     "output_type": "execute_result"
    }
   ],
   "source": [
    "new_list"
   ]
  },
  {
   "cell_type": "code",
   "execution_count": 57,
   "id": "5436c9fd",
   "metadata": {},
   "outputs": [],
   "source": [
    "new_list_2 = countries.copy()"
   ]
  },
  {
   "cell_type": "code",
   "execution_count": 58,
   "id": "b8a562b5",
   "metadata": {},
   "outputs": [
    {
     "data": {
      "text/plain": [
       "['United States', 'India', 'China', 'Brazil']"
      ]
     },
     "execution_count": 58,
     "metadata": {},
     "output_type": "execute_result"
    }
   ],
   "source": [
    "new_list_2"
   ]
  },
  {
   "cell_type": "markdown",
   "id": "64d0bcb1",
   "metadata": {},
   "source": [
    "# 5 Dictionary"
   ]
  },
  {
   "cell_type": "code",
   "execution_count": 59,
   "id": "7e178b34",
   "metadata": {},
   "outputs": [],
   "source": [
    "my_dict = {'key1':'value1', 'key2':'value2'}"
   ]
  },
  {
   "cell_type": "markdown",
   "id": "8c0323fe",
   "metadata": {},
   "source": [
    "my_data = {'name':'Frank', 'age':26}"
   ]
  },
  {
   "cell_type": "code",
   "execution_count": 60,
   "id": "3a196677",
   "metadata": {},
   "outputs": [],
   "source": [
    "my_data = {'name':'Frank', 'age':26}"
   ]
  },
  {
   "cell_type": "code",
   "execution_count": 61,
   "id": "e058ffd7",
   "metadata": {},
   "outputs": [
    {
     "data": {
      "text/plain": [
       "{'name': 'Frank', 'age': 26}"
      ]
     },
     "execution_count": 61,
     "metadata": {},
     "output_type": "execute_result"
    }
   ],
   "source": [
    "my_data"
   ]
  },
  {
   "cell_type": "markdown",
   "id": "4e386b16",
   "metadata": {},
   "source": [
    "my_data.keys()"
   ]
  },
  {
   "cell_type": "code",
   "execution_count": 62,
   "id": "c63bd7d6",
   "metadata": {},
   "outputs": [
    {
     "data": {
      "text/plain": [
       "dict_keys(['name', 'age'])"
      ]
     },
     "execution_count": 62,
     "metadata": {},
     "output_type": "execute_result"
    }
   ],
   "source": [
    "my_data.keys()"
   ]
  },
  {
   "cell_type": "code",
   "execution_count": 63,
   "id": "faf0c84e",
   "metadata": {},
   "outputs": [
    {
     "data": {
      "text/plain": [
       "dict_values(['Frank', 26])"
      ]
     },
     "execution_count": 63,
     "metadata": {},
     "output_type": "execute_result"
    }
   ],
   "source": [
    "my_data.values()"
   ]
  },
  {
   "cell_type": "code",
   "execution_count": 64,
   "id": "4f32f41b",
   "metadata": {},
   "outputs": [
    {
     "data": {
      "text/plain": [
       "dict_items([('name', 'Frank'), ('age', 26)])"
      ]
     },
     "execution_count": 64,
     "metadata": {},
     "output_type": "execute_result"
    }
   ],
   "source": [
    "my_data.items()"
   ]
  },
  {
   "cell_type": "code",
   "execution_count": 65,
   "id": "72b474c8",
   "metadata": {},
   "outputs": [],
   "source": [
    "my_data['height'] = 1.7"
   ]
  },
  {
   "cell_type": "code",
   "execution_count": 66,
   "id": "457f0664",
   "metadata": {},
   "outputs": [
    {
     "data": {
      "text/plain": [
       "{'name': 'Frank', 'age': 26, 'height': 1.7}"
      ]
     },
     "execution_count": 66,
     "metadata": {},
     "output_type": "execute_result"
    }
   ],
   "source": [
    "my_data"
   ]
  },
  {
   "cell_type": "code",
   "execution_count": 79,
   "id": "444ffc7b",
   "metadata": {},
   "outputs": [],
   "source": [
    "my_data.update({'height':1.95})"
   ]
  },
  {
   "cell_type": "code",
   "execution_count": 80,
   "id": "5b63ebb6",
   "metadata": {},
   "outputs": [
    {
     "data": {
      "text/plain": [
       "{'name': 'Frank', 'age': 26, 'height': 1.95}"
      ]
     },
     "execution_count": 80,
     "metadata": {},
     "output_type": "execute_result"
    }
   ],
   "source": [
    "my_data"
   ]
  },
  {
   "cell_type": "markdown",
   "id": "ff46bdb1",
   "metadata": {},
   "source": [
    "## 5.0.1 Copy a dictionary"
   ]
  },
  {
   "cell_type": "code",
   "execution_count": 70,
   "id": "b8afed79",
   "metadata": {},
   "outputs": [],
   "source": [
    "new_dict = my_data.copy()"
   ]
  },
  {
   "cell_type": "code",
   "execution_count": 74,
   "id": "26dd31ca",
   "metadata": {},
   "outputs": [
    {
     "data": {
      "text/plain": [
       "{'name': 'Frank', 'age': 26, 'height': 1.8}"
      ]
     },
     "execution_count": 74,
     "metadata": {},
     "output_type": "execute_result"
    }
   ],
   "source": [
    "new_dict"
   ]
  },
  {
   "cell_type": "code",
   "execution_count": 77,
   "id": "e6088704",
   "metadata": {},
   "outputs": [],
   "source": [
    "new_dict_2 = my_data"
   ]
  },
  {
   "cell_type": "code",
   "execution_count": 81,
   "id": "e39d8c20",
   "metadata": {},
   "outputs": [
    {
     "data": {
      "text/plain": [
       "{'name': 'Frank', 'age': 26, 'height': 1.95}"
      ]
     },
     "execution_count": 81,
     "metadata": {},
     "output_type": "execute_result"
    }
   ],
   "source": [
    "new_dict_2"
   ]
  },
  {
   "cell_type": "markdown",
   "id": "8a56687c",
   "metadata": {},
   "source": [
    "## 5.0.2 Remove element"
   ]
  },
  {
   "cell_type": "code",
   "execution_count": 82,
   "id": "f6718103",
   "metadata": {},
   "outputs": [
    {
     "data": {
      "text/plain": [
       "'Frank'"
      ]
     },
     "execution_count": 82,
     "metadata": {},
     "output_type": "execute_result"
    }
   ],
   "source": [
    "my_data.pop('name')"
   ]
  },
  {
   "cell_type": "code",
   "execution_count": 83,
   "id": "620fce3b",
   "metadata": {},
   "outputs": [
    {
     "data": {
      "text/plain": [
       "{'age': 26, 'height': 1.95}"
      ]
     },
     "execution_count": 83,
     "metadata": {},
     "output_type": "execute_result"
    }
   ],
   "source": [
    "my_data"
   ]
  },
  {
   "cell_type": "code",
   "execution_count": 84,
   "id": "76d3b29c",
   "metadata": {},
   "outputs": [],
   "source": [
    "del my_data['age']"
   ]
  },
  {
   "cell_type": "code",
   "execution_count": 85,
   "id": "03a91317",
   "metadata": {},
   "outputs": [
    {
     "data": {
      "text/plain": [
       "{'height': 1.95}"
      ]
     },
     "execution_count": 85,
     "metadata": {},
     "output_type": "execute_result"
    }
   ],
   "source": [
    "my_data"
   ]
  },
  {
   "cell_type": "code",
   "execution_count": 86,
   "id": "2fa57c30",
   "metadata": {},
   "outputs": [],
   "source": [
    "my_data.clear()"
   ]
  },
  {
   "cell_type": "code",
   "execution_count": 87,
   "id": "1a815fcf",
   "metadata": {},
   "outputs": [
    {
     "data": {
      "text/plain": [
       "{}"
      ]
     },
     "execution_count": 87,
     "metadata": {},
     "output_type": "execute_result"
    }
   ],
   "source": [
    "my_data"
   ]
  },
  {
   "cell_type": "markdown",
   "id": "76e78815",
   "metadata": {},
   "source": [
    "# 6 If Statement"
   ]
  },
  {
   "cell_type": "code",
   "execution_count": 92,
   "id": "0bdbfa44",
   "metadata": {},
   "outputs": [
    {
     "name": "stdout",
     "output_type": "stream",
     "text": [
      "You're an adult!\n"
     ]
    }
   ],
   "source": [
    "age = 30\n",
    "\n",
    "if age >= 18:\n",
    "    print(\"You're an adult!\")\n",
    "else:\n",
    "    print(\"You're a kid\")"
   ]
  },
  {
   "cell_type": "markdown",
   "id": "e93c8250",
   "metadata": {},
   "source": []
  },
  {
   "cell_type": "markdown",
   "id": "ec839cf2",
   "metadata": {},
   "source": []
  },
  {
   "cell_type": "markdown",
   "id": "d9902840",
   "metadata": {},
   "source": []
  },
  {
   "cell_type": "code",
   "execution_count": 96,
   "id": "f7e2cc87",
   "metadata": {},
   "outputs": [
    {
     "name": "stdout",
     "output_type": "stream",
     "text": [
      "You're a kid\n"
     ]
    }
   ],
   "source": [
    "age = 12\n",
    "\n",
    "if age >= 18:\n",
    "    print(\"You're an adult!\")\n",
    "elif age >= 13:\n",
    "    print(\"You're a teenager\")\n",
    "else:\n",
    "    print(\"You're a kid\")"
   ]
  },
  {
   "cell_type": "markdown",
   "id": "df42b44a",
   "metadata": {},
   "source": [
    "# 7 For loop"
   ]
  },
  {
   "cell_type": "markdown",
   "id": "1e7c663f",
   "metadata": {},
   "source": [
    "for<variable> in<list>:\n",
    "    code"
   ]
  },
  {
   "cell_type": "code",
   "execution_count": 98,
   "id": "4dcd7740",
   "metadata": {},
   "outputs": [
    {
     "data": {
      "text/plain": [
       "['United States', 'India', 'China', 'Brazil']"
      ]
     },
     "execution_count": 98,
     "metadata": {},
     "output_type": "execute_result"
    }
   ],
   "source": [
    "countries"
   ]
  },
  {
   "cell_type": "code",
   "execution_count": 102,
   "id": "1a57091d",
   "metadata": {},
   "outputs": [
    {
     "name": "stdout",
     "output_type": "stream",
     "text": [
      "United States\n",
      "India\n",
      "China\n",
      "Brazil\n"
     ]
    }
   ],
   "source": [
    "for country in countries:\n",
    "    print (country)"
   ]
  },
  {
   "cell_type": "code",
   "execution_count": 103,
   "id": "8fcaf419",
   "metadata": {},
   "outputs": [
    {
     "name": "stdout",
     "output_type": "stream",
     "text": [
      "0\n",
      "United States\n",
      "1\n",
      "India\n",
      "2\n",
      "China\n",
      "3\n",
      "Brazil\n"
     ]
    }
   ],
   "source": [
    "for i, country in enumerate(countries):\n",
    "    print(i)\n",
    "    print(country)"
   ]
  },
  {
   "cell_type": "code",
   "execution_count": 108,
   "id": "b0bf8d8a",
   "metadata": {},
   "outputs": [
    {
     "data": {
      "text/plain": [
       "{'name': 'Frank', 'age': 26}"
      ]
     },
     "execution_count": 108,
     "metadata": {},
     "output_type": "execute_result"
    }
   ],
   "source": [
    "my_data = {'name':'Frank', 'age':26}\n",
    "my_data"
   ]
  },
  {
   "cell_type": "code",
   "execution_count": 109,
   "id": "a1e69f3b",
   "metadata": {},
   "outputs": [
    {
     "name": "stdout",
     "output_type": "stream",
     "text": [
      "name\n",
      "Frank\n",
      "age\n",
      "26\n"
     ]
    }
   ],
   "source": [
    "for key, value in my_data.items():\n",
    "    print(key)\n",
    "    print(value)"
   ]
  },
  {
   "cell_type": "markdown",
   "id": "daa859e8",
   "metadata": {},
   "source": [
    "# 8 Function"
   ]
  },
  {
   "cell_type": "markdown",
   "id": "1c85db96",
   "metadata": {},
   "source": [
    "def function(<params>):\n",
    "    <code>\n",
    "    return<data>"
   ]
  },
  {
   "cell_type": "code",
   "execution_count": 3,
   "id": "4d93d6c2",
   "metadata": {},
   "outputs": [],
   "source": [
    "def sum_values(a, b):\n",
    "    x = a + b\n",
    "    return x"
   ]
  },
  {
   "cell_type": "code",
   "execution_count": 4,
   "id": "58dcf76e",
   "metadata": {},
   "outputs": [
    {
     "data": {
      "text/plain": [
       "4"
      ]
     },
     "execution_count": 4,
     "metadata": {},
     "output_type": "execute_result"
    }
   ],
   "source": [
    "sum_values(1, 3)"
   ]
  },
  {
   "cell_type": "markdown",
   "id": "2d171a85",
   "metadata": {},
   "source": [
    "## 8.1 Built-in Function"
   ]
  },
  {
   "cell_type": "code",
   "execution_count": 5,
   "id": "c0917cb2",
   "metadata": {},
   "outputs": [],
   "source": [
    "countries = ['United States', 'India', 'China', 'Brazil']"
   ]
  },
  {
   "cell_type": "code",
   "execution_count": 6,
   "id": "84499555",
   "metadata": {},
   "outputs": [
    {
     "data": {
      "text/plain": [
       "4"
      ]
     },
     "execution_count": 6,
     "metadata": {},
     "output_type": "execute_result"
    }
   ],
   "source": [
    "len(countries)"
   ]
  },
  {
   "cell_type": "code",
   "execution_count": 8,
   "id": "6860509d",
   "metadata": {},
   "outputs": [
    {
     "data": {
      "text/plain": [
       "99"
      ]
     },
     "execution_count": 8,
     "metadata": {},
     "output_type": "execute_result"
    }
   ],
   "source": [
    "max([10, 63, 81, 1, 99])"
   ]
  },
  {
   "cell_type": "code",
   "execution_count": 9,
   "id": "a02caaee",
   "metadata": {},
   "outputs": [
    {
     "data": {
      "text/plain": [
       "1"
      ]
     },
     "execution_count": 9,
     "metadata": {},
     "output_type": "execute_result"
    }
   ],
   "source": [
    "min([10, 63, 81, 1, 99])"
   ]
  },
  {
   "cell_type": "code",
   "execution_count": 10,
   "id": "c7fa6699",
   "metadata": {},
   "outputs": [
    {
     "data": {
      "text/plain": [
       "list"
      ]
     },
     "execution_count": 10,
     "metadata": {},
     "output_type": "execute_result"
    }
   ],
   "source": [
    "type(countries)"
   ]
  },
  {
   "cell_type": "code",
   "execution_count": 12,
   "id": "ce8a9e79",
   "metadata": {},
   "outputs": [
    {
     "name": "stdout",
     "output_type": "stream",
     "text": [
      "1\n",
      "3\n",
      "5\n",
      "7\n",
      "9\n"
     ]
    }
   ],
   "source": [
    "for i in range(1, 10, 2):\n",
    "    print(i)"
   ]
  },
  {
   "cell_type": "markdown",
   "id": "4990636b",
   "metadata": {},
   "source": [
    "# 9 Module"
   ]
  },
  {
   "cell_type": "code",
   "execution_count": null,
   "id": "e869b34b",
   "metadata": {},
   "outputs": [],
   "source": [
    "import"
   ]
  },
  {
   "cell_type": "markdown",
   "id": "c5237853",
   "metadata": {},
   "source": [
    "## 9.1 OS Module "
   ]
  },
  {
   "cell_type": "code",
   "execution_count": 14,
   "id": "a7ba3fa5",
   "metadata": {},
   "outputs": [],
   "source": [
    "import os"
   ]
  },
  {
   "cell_type": "code",
   "execution_count": 15,
   "id": "3b84d4f2",
   "metadata": {},
   "outputs": [
    {
     "data": {
      "text/plain": [
       "'C:\\\\Users\\\\teerutp\\\\Anaconda Scripts\\\\My Course'"
      ]
     },
     "execution_count": 15,
     "metadata": {},
     "output_type": "execute_result"
    }
   ],
   "source": [
    "os.getcwd()"
   ]
  },
  {
   "cell_type": "code",
   "execution_count": 16,
   "id": "db589173",
   "metadata": {},
   "outputs": [
    {
     "data": {
      "text/plain": [
       "['.ipynb_checkpoints', 'Example.ipynb']"
      ]
     },
     "execution_count": 16,
     "metadata": {},
     "output_type": "execute_result"
    }
   ],
   "source": [
    "os.listdir()"
   ]
  },
  {
   "cell_type": "code",
   "execution_count": 17,
   "id": "1f5cb221",
   "metadata": {},
   "outputs": [],
   "source": [
    "os.makedirs(\"New Folder\")"
   ]
  },
  {
   "cell_type": "code",
   "execution_count": 18,
   "id": "3277719d",
   "metadata": {},
   "outputs": [
    {
     "data": {
      "text/plain": [
       "['.ipynb_checkpoints', 'Example.ipynb', 'New Folder']"
      ]
     },
     "execution_count": 18,
     "metadata": {},
     "output_type": "execute_result"
    }
   ],
   "source": [
    "os.listdir()"
   ]
  },
  {
   "cell_type": "code",
   "execution_count": null,
   "id": "d5dc4718",
   "metadata": {},
   "outputs": [],
   "source": []
  },
  {
   "cell_type": "code",
   "execution_count": null,
   "id": "b4c3ec43",
   "metadata": {},
   "outputs": [],
   "source": []
  },
  {
   "cell_type": "code",
   "execution_count": null,
   "id": "a5595b39",
   "metadata": {},
   "outputs": [],
   "source": []
  },
  {
   "cell_type": "code",
   "execution_count": null,
   "id": "306fcd2e",
   "metadata": {},
   "outputs": [],
   "source": []
  },
  {
   "cell_type": "code",
   "execution_count": null,
   "id": "c53375e4",
   "metadata": {},
   "outputs": [],
   "source": []
  },
  {
   "cell_type": "code",
   "execution_count": null,
   "id": "742290b8",
   "metadata": {},
   "outputs": [],
   "source": []
  },
  {
   "cell_type": "code",
   "execution_count": null,
   "id": "c6256b47",
   "metadata": {},
   "outputs": [],
   "source": []
  },
  {
   "cell_type": "code",
   "execution_count": null,
   "id": "24e34b72",
   "metadata": {},
   "outputs": [],
   "source": []
  },
  {
   "cell_type": "code",
   "execution_count": null,
   "id": "70e3ba89",
   "metadata": {},
   "outputs": [],
   "source": []
  },
  {
   "cell_type": "code",
   "execution_count": null,
   "id": "accb2f55",
   "metadata": {},
   "outputs": [],
   "source": []
  },
  {
   "cell_type": "code",
   "execution_count": null,
   "id": "32d98da5",
   "metadata": {},
   "outputs": [],
   "source": []
  },
  {
   "cell_type": "code",
   "execution_count": null,
   "id": "4d4c63c8",
   "metadata": {},
   "outputs": [],
   "source": []
  },
  {
   "cell_type": "code",
   "execution_count": null,
   "id": "9204dab6",
   "metadata": {},
   "outputs": [],
   "source": []
  },
  {
   "cell_type": "code",
   "execution_count": null,
   "id": "440316d6",
   "metadata": {},
   "outputs": [],
   "source": []
  },
  {
   "cell_type": "code",
   "execution_count": null,
   "id": "1a9be22e",
   "metadata": {},
   "outputs": [],
   "source": []
  },
  {
   "cell_type": "code",
   "execution_count": null,
   "id": "03936425",
   "metadata": {},
   "outputs": [],
   "source": []
  },
  {
   "cell_type": "code",
   "execution_count": null,
   "id": "e3c3b005",
   "metadata": {},
   "outputs": [],
   "source": []
  },
  {
   "cell_type": "code",
   "execution_count": null,
   "id": "92dbc877",
   "metadata": {},
   "outputs": [],
   "source": []
  },
  {
   "cell_type": "code",
   "execution_count": null,
   "id": "dc180346",
   "metadata": {},
   "outputs": [],
   "source": []
  },
  {
   "cell_type": "code",
   "execution_count": null,
   "id": "8ae8b05a",
   "metadata": {},
   "outputs": [],
   "source": []
  },
  {
   "cell_type": "code",
   "execution_count": null,
   "id": "e00f404f",
   "metadata": {},
   "outputs": [],
   "source": []
  },
  {
   "cell_type": "code",
   "execution_count": null,
   "id": "ecd7ad4c",
   "metadata": {},
   "outputs": [],
   "source": []
  },
  {
   "cell_type": "code",
   "execution_count": null,
   "id": "80ad65b9",
   "metadata": {},
   "outputs": [],
   "source": []
  },
  {
   "cell_type": "code",
   "execution_count": null,
   "id": "39b82fb0",
   "metadata": {},
   "outputs": [],
   "source": []
  },
  {
   "cell_type": "code",
   "execution_count": null,
   "id": "87f7ac4c",
   "metadata": {},
   "outputs": [],
   "source": []
  },
  {
   "cell_type": "code",
   "execution_count": null,
   "id": "bcbc347c",
   "metadata": {},
   "outputs": [],
   "source": []
  },
  {
   "cell_type": "code",
   "execution_count": null,
   "id": "4d448523",
   "metadata": {},
   "outputs": [],
   "source": []
  }
 ],
 "metadata": {
  "kernelspec": {
   "display_name": "Python 3 (ipykernel)",
   "language": "python",
   "name": "python3"
  },
  "language_info": {
   "codemirror_mode": {
    "name": "ipython",
    "version": 3
   },
   "file_extension": ".py",
   "mimetype": "text/x-python",
   "name": "python",
   "nbconvert_exporter": "python",
   "pygments_lexer": "ipython3",
   "version": "3.11.5"
  }
 },
 "nbformat": 4,
 "nbformat_minor": 5
}
